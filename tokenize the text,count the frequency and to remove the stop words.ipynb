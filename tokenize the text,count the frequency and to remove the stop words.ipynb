{
  "nbformat": 4,
  "nbformat_minor": 0,
  "metadata": {
    "colab": {
      "provenance": []
    },
    "kernelspec": {
      "name": "python3",
      "display_name": "Python 3"
    },
    "language_info": {
      "name": "python"
    }
  },
  "cells": [
    {
      "cell_type": "code",
      "execution_count": null,
      "metadata": {
        "id": "LKvhrqWx7QL9",
        "colab": {
          "base_uri": "https://localhost:8080/"
        },
        "outputId": "97536510-30e8-448c-d015-6b73608842d3"
      },
      "outputs": [
        {
          "output_type": "stream",
          "name": "stderr",
          "text": [
            "[nltk_data] Downloading collection 'all'\n",
            "[nltk_data]    | \n",
            "[nltk_data]    | Downloading package abc to /root/nltk_data...\n",
            "[nltk_data]    |   Package abc is already up-to-date!\n",
            "[nltk_data]    | Downloading package alpino to /root/nltk_data...\n",
            "[nltk_data]    |   Package alpino is already up-to-date!\n",
            "[nltk_data]    | Downloading package averaged_perceptron_tagger to\n",
            "[nltk_data]    |     /root/nltk_data...\n",
            "[nltk_data]    |   Package averaged_perceptron_tagger is already up-\n",
            "[nltk_data]    |       to-date!\n",
            "[nltk_data]    | Downloading package averaged_perceptron_tagger_ru to\n",
            "[nltk_data]    |     /root/nltk_data...\n",
            "[nltk_data]    |   Package averaged_perceptron_tagger_ru is already\n",
            "[nltk_data]    |       up-to-date!\n",
            "[nltk_data]    | Downloading package basque_grammars to\n",
            "[nltk_data]    |     /root/nltk_data...\n",
            "[nltk_data]    |   Package basque_grammars is already up-to-date!\n",
            "[nltk_data]    | Downloading package bcp47 to /root/nltk_data...\n",
            "[nltk_data]    |   Package bcp47 is already up-to-date!\n",
            "[nltk_data]    | Downloading package biocreative_ppi to\n",
            "[nltk_data]    |     /root/nltk_data...\n",
            "[nltk_data]    |   Package biocreative_ppi is already up-to-date!\n",
            "[nltk_data]    | Downloading package bllip_wsj_no_aux to\n",
            "[nltk_data]    |     /root/nltk_data...\n",
            "[nltk_data]    |   Package bllip_wsj_no_aux is already up-to-date!\n",
            "[nltk_data]    | Downloading package book_grammars to\n",
            "[nltk_data]    |     /root/nltk_data...\n",
            "[nltk_data]    |   Package book_grammars is already up-to-date!\n",
            "[nltk_data]    | Downloading package brown to /root/nltk_data...\n",
            "[nltk_data]    |   Package brown is already up-to-date!\n",
            "[nltk_data]    | Downloading package brown_tei to /root/nltk_data...\n",
            "[nltk_data]    |   Package brown_tei is already up-to-date!\n",
            "[nltk_data]    | Downloading package cess_cat to /root/nltk_data...\n",
            "[nltk_data]    |   Package cess_cat is already up-to-date!\n",
            "[nltk_data]    | Downloading package cess_esp to /root/nltk_data...\n",
            "[nltk_data]    |   Package cess_esp is already up-to-date!\n",
            "[nltk_data]    | Downloading package chat80 to /root/nltk_data...\n",
            "[nltk_data]    |   Package chat80 is already up-to-date!\n",
            "[nltk_data]    | Downloading package city_database to\n",
            "[nltk_data]    |     /root/nltk_data...\n",
            "[nltk_data]    |   Package city_database is already up-to-date!\n",
            "[nltk_data]    | Downloading package cmudict to /root/nltk_data...\n",
            "[nltk_data]    |   Package cmudict is already up-to-date!\n",
            "[nltk_data]    | Downloading package comparative_sentences to\n",
            "[nltk_data]    |     /root/nltk_data...\n",
            "[nltk_data]    |   Package comparative_sentences is already up-to-\n",
            "[nltk_data]    |       date!\n",
            "[nltk_data]    | Downloading package comtrans to /root/nltk_data...\n",
            "[nltk_data]    |   Package comtrans is already up-to-date!\n",
            "[nltk_data]    | Downloading package conll2000 to /root/nltk_data...\n",
            "[nltk_data]    |   Package conll2000 is already up-to-date!\n",
            "[nltk_data]    | Downloading package conll2002 to /root/nltk_data...\n",
            "[nltk_data]    |   Package conll2002 is already up-to-date!\n",
            "[nltk_data]    | Downloading package conll2007 to /root/nltk_data...\n",
            "[nltk_data]    |   Package conll2007 is already up-to-date!\n",
            "[nltk_data]    | Downloading package crubadan to /root/nltk_data...\n",
            "[nltk_data]    |   Package crubadan is already up-to-date!\n",
            "[nltk_data]    | Downloading package dependency_treebank to\n",
            "[nltk_data]    |     /root/nltk_data...\n",
            "[nltk_data]    |   Package dependency_treebank is already up-to-date!\n",
            "[nltk_data]    | Downloading package dolch to /root/nltk_data...\n",
            "[nltk_data]    |   Package dolch is already up-to-date!\n",
            "[nltk_data]    | Downloading package europarl_raw to\n",
            "[nltk_data]    |     /root/nltk_data...\n",
            "[nltk_data]    |   Package europarl_raw is already up-to-date!\n",
            "[nltk_data]    | Downloading package extended_omw to\n",
            "[nltk_data]    |     /root/nltk_data...\n",
            "[nltk_data]    |   Package extended_omw is already up-to-date!\n",
            "[nltk_data]    | Downloading package floresta to /root/nltk_data...\n",
            "[nltk_data]    |   Package floresta is already up-to-date!\n",
            "[nltk_data]    | Downloading package framenet_v15 to\n",
            "[nltk_data]    |     /root/nltk_data...\n",
            "[nltk_data]    |   Package framenet_v15 is already up-to-date!\n",
            "[nltk_data]    | Downloading package framenet_v17 to\n",
            "[nltk_data]    |     /root/nltk_data...\n",
            "[nltk_data]    |   Package framenet_v17 is already up-to-date!\n",
            "[nltk_data]    | Downloading package gazetteers to /root/nltk_data...\n",
            "[nltk_data]    |   Package gazetteers is already up-to-date!\n",
            "[nltk_data]    | Downloading package genesis to /root/nltk_data...\n",
            "[nltk_data]    |   Package genesis is already up-to-date!\n",
            "[nltk_data]    | Downloading package gutenberg to /root/nltk_data...\n",
            "[nltk_data]    |   Package gutenberg is already up-to-date!\n",
            "[nltk_data]    | Downloading package ieer to /root/nltk_data...\n",
            "[nltk_data]    |   Package ieer is already up-to-date!\n",
            "[nltk_data]    | Downloading package inaugural to /root/nltk_data...\n",
            "[nltk_data]    |   Package inaugural is already up-to-date!\n",
            "[nltk_data]    | Downloading package indian to /root/nltk_data...\n",
            "[nltk_data]    |   Package indian is already up-to-date!\n",
            "[nltk_data]    | Downloading package jeita to /root/nltk_data...\n",
            "[nltk_data]    |   Package jeita is already up-to-date!\n",
            "[nltk_data]    | Downloading package kimmo to /root/nltk_data...\n",
            "[nltk_data]    |   Package kimmo is already up-to-date!\n",
            "[nltk_data]    | Downloading package knbc to /root/nltk_data...\n",
            "[nltk_data]    |   Package knbc is already up-to-date!\n",
            "[nltk_data]    | Downloading package large_grammars to\n",
            "[nltk_data]    |     /root/nltk_data...\n",
            "[nltk_data]    |   Package large_grammars is already up-to-date!\n",
            "[nltk_data]    | Downloading package lin_thesaurus to\n",
            "[nltk_data]    |     /root/nltk_data...\n",
            "[nltk_data]    |   Package lin_thesaurus is already up-to-date!\n",
            "[nltk_data]    | Downloading package mac_morpho to /root/nltk_data...\n",
            "[nltk_data]    |   Package mac_morpho is already up-to-date!\n",
            "[nltk_data]    | Downloading package machado to /root/nltk_data...\n",
            "[nltk_data]    |   Package machado is already up-to-date!\n",
            "[nltk_data]    | Downloading package masc_tagged to /root/nltk_data...\n",
            "[nltk_data]    |   Package masc_tagged is already up-to-date!\n",
            "[nltk_data]    | Downloading package maxent_ne_chunker to\n",
            "[nltk_data]    |     /root/nltk_data...\n",
            "[nltk_data]    |   Package maxent_ne_chunker is already up-to-date!\n",
            "[nltk_data]    | Downloading package maxent_treebank_pos_tagger to\n",
            "[nltk_data]    |     /root/nltk_data...\n",
            "[nltk_data]    |   Package maxent_treebank_pos_tagger is already up-\n",
            "[nltk_data]    |       to-date!\n",
            "[nltk_data]    | Downloading package moses_sample to\n",
            "[nltk_data]    |     /root/nltk_data...\n",
            "[nltk_data]    |   Package moses_sample is already up-to-date!\n",
            "[nltk_data]    | Downloading package movie_reviews to\n",
            "[nltk_data]    |     /root/nltk_data...\n",
            "[nltk_data]    |   Package movie_reviews is already up-to-date!\n",
            "[nltk_data]    | Downloading package mte_teip5 to /root/nltk_data...\n",
            "[nltk_data]    |   Package mte_teip5 is already up-to-date!\n",
            "[nltk_data]    | Downloading package mwa_ppdb to /root/nltk_data...\n",
            "[nltk_data]    |   Package mwa_ppdb is already up-to-date!\n",
            "[nltk_data]    | Downloading package names to /root/nltk_data...\n",
            "[nltk_data]    |   Package names is already up-to-date!\n",
            "[nltk_data]    | Downloading package nombank.1.0 to /root/nltk_data...\n",
            "[nltk_data]    |   Package nombank.1.0 is already up-to-date!\n",
            "[nltk_data]    | Downloading package nonbreaking_prefixes to\n",
            "[nltk_data]    |     /root/nltk_data...\n",
            "[nltk_data]    |   Package nonbreaking_prefixes is already up-to-date!\n",
            "[nltk_data]    | Downloading package nps_chat to /root/nltk_data...\n",
            "[nltk_data]    |   Package nps_chat is already up-to-date!\n",
            "[nltk_data]    | Downloading package omw to /root/nltk_data...\n",
            "[nltk_data]    |   Package omw is already up-to-date!\n",
            "[nltk_data]    | Downloading package omw-1.4 to /root/nltk_data...\n",
            "[nltk_data]    |   Package omw-1.4 is already up-to-date!\n",
            "[nltk_data]    | Downloading package opinion_lexicon to\n",
            "[nltk_data]    |     /root/nltk_data...\n",
            "[nltk_data]    |   Package opinion_lexicon is already up-to-date!\n",
            "[nltk_data]    | Downloading package panlex_swadesh to\n",
            "[nltk_data]    |     /root/nltk_data...\n",
            "[nltk_data]    |   Package panlex_swadesh is already up-to-date!\n",
            "[nltk_data]    | Downloading package paradigms to /root/nltk_data...\n",
            "[nltk_data]    |   Package paradigms is already up-to-date!\n",
            "[nltk_data]    | Downloading package pe08 to /root/nltk_data...\n",
            "[nltk_data]    |   Package pe08 is already up-to-date!\n",
            "[nltk_data]    | Downloading package perluniprops to\n",
            "[nltk_data]    |     /root/nltk_data...\n",
            "[nltk_data]    |   Package perluniprops is already up-to-date!\n",
            "[nltk_data]    | Downloading package pil to /root/nltk_data...\n",
            "[nltk_data]    |   Package pil is already up-to-date!\n",
            "[nltk_data]    | Downloading package pl196x to /root/nltk_data...\n",
            "[nltk_data]    |   Package pl196x is already up-to-date!\n",
            "[nltk_data]    | Downloading package porter_test to /root/nltk_data...\n",
            "[nltk_data]    |   Package porter_test is already up-to-date!\n",
            "[nltk_data]    | Downloading package ppattach to /root/nltk_data...\n",
            "[nltk_data]    |   Package ppattach is already up-to-date!\n",
            "[nltk_data]    | Downloading package problem_reports to\n",
            "[nltk_data]    |     /root/nltk_data...\n",
            "[nltk_data]    |   Package problem_reports is already up-to-date!\n",
            "[nltk_data]    | Downloading package product_reviews_1 to\n",
            "[nltk_data]    |     /root/nltk_data...\n",
            "[nltk_data]    |   Package product_reviews_1 is already up-to-date!\n",
            "[nltk_data]    | Downloading package product_reviews_2 to\n",
            "[nltk_data]    |     /root/nltk_data...\n",
            "[nltk_data]    |   Package product_reviews_2 is already up-to-date!\n",
            "[nltk_data]    | Downloading package propbank to /root/nltk_data...\n",
            "[nltk_data]    |   Package propbank is already up-to-date!\n",
            "[nltk_data]    | Downloading package pros_cons to /root/nltk_data...\n",
            "[nltk_data]    |   Package pros_cons is already up-to-date!\n",
            "[nltk_data]    | Downloading package ptb to /root/nltk_data...\n",
            "[nltk_data]    |   Package ptb is already up-to-date!\n",
            "[nltk_data]    | Downloading package punkt to /root/nltk_data...\n",
            "[nltk_data]    |   Package punkt is already up-to-date!\n",
            "[nltk_data]    | Downloading package qc to /root/nltk_data...\n",
            "[nltk_data]    |   Package qc is already up-to-date!\n",
            "[nltk_data]    | Downloading package reuters to /root/nltk_data...\n",
            "[nltk_data]    |   Package reuters is already up-to-date!\n",
            "[nltk_data]    | Downloading package rslp to /root/nltk_data...\n",
            "[nltk_data]    |   Package rslp is already up-to-date!\n",
            "[nltk_data]    | Downloading package rte to /root/nltk_data...\n",
            "[nltk_data]    |   Package rte is already up-to-date!\n",
            "[nltk_data]    | Downloading package sample_grammars to\n",
            "[nltk_data]    |     /root/nltk_data...\n",
            "[nltk_data]    |   Package sample_grammars is already up-to-date!\n",
            "[nltk_data]    | Downloading package semcor to /root/nltk_data...\n",
            "[nltk_data]    |   Package semcor is already up-to-date!\n",
            "[nltk_data]    | Downloading package senseval to /root/nltk_data...\n",
            "[nltk_data]    |   Package senseval is already up-to-date!\n",
            "[nltk_data]    | Downloading package sentence_polarity to\n",
            "[nltk_data]    |     /root/nltk_data...\n",
            "[nltk_data]    |   Package sentence_polarity is already up-to-date!\n",
            "[nltk_data]    | Downloading package sentiwordnet to\n",
            "[nltk_data]    |     /root/nltk_data...\n",
            "[nltk_data]    |   Package sentiwordnet is already up-to-date!\n",
            "[nltk_data]    | Downloading package shakespeare to /root/nltk_data...\n",
            "[nltk_data]    |   Package shakespeare is already up-to-date!\n",
            "[nltk_data]    | Downloading package sinica_treebank to\n",
            "[nltk_data]    |     /root/nltk_data...\n",
            "[nltk_data]    |   Package sinica_treebank is already up-to-date!\n",
            "[nltk_data]    | Downloading package smultron to /root/nltk_data...\n",
            "[nltk_data]    |   Package smultron is already up-to-date!\n",
            "[nltk_data]    | Downloading package snowball_data to\n",
            "[nltk_data]    |     /root/nltk_data...\n",
            "[nltk_data]    |   Package snowball_data is already up-to-date!\n",
            "[nltk_data]    | Downloading package spanish_grammars to\n",
            "[nltk_data]    |     /root/nltk_data...\n",
            "[nltk_data]    |   Package spanish_grammars is already up-to-date!\n",
            "[nltk_data]    | Downloading package state_union to /root/nltk_data...\n",
            "[nltk_data]    |   Package state_union is already up-to-date!\n",
            "[nltk_data]    | Downloading package stopwords to /root/nltk_data...\n",
            "[nltk_data]    |   Package stopwords is already up-to-date!\n",
            "[nltk_data]    | Downloading package subjectivity to\n",
            "[nltk_data]    |     /root/nltk_data...\n",
            "[nltk_data]    |   Package subjectivity is already up-to-date!\n",
            "[nltk_data]    | Downloading package swadesh to /root/nltk_data...\n",
            "[nltk_data]    |   Package swadesh is already up-to-date!\n",
            "[nltk_data]    | Downloading package switchboard to /root/nltk_data...\n",
            "[nltk_data]    |   Package switchboard is already up-to-date!\n",
            "[nltk_data]    | Downloading package tagsets to /root/nltk_data...\n",
            "[nltk_data]    |   Package tagsets is already up-to-date!\n",
            "[nltk_data]    | Downloading package timit to /root/nltk_data...\n",
            "[nltk_data]    |   Package timit is already up-to-date!\n",
            "[nltk_data]    | Downloading package toolbox to /root/nltk_data...\n",
            "[nltk_data]    |   Package toolbox is already up-to-date!\n",
            "[nltk_data]    | Downloading package treebank to /root/nltk_data...\n",
            "[nltk_data]    |   Package treebank is already up-to-date!\n",
            "[nltk_data]    | Downloading package twitter_samples to\n",
            "[nltk_data]    |     /root/nltk_data...\n",
            "[nltk_data]    |   Package twitter_samples is already up-to-date!\n",
            "[nltk_data]    | Downloading package udhr to /root/nltk_data...\n",
            "[nltk_data]    |   Package udhr is already up-to-date!\n",
            "[nltk_data]    | Downloading package udhr2 to /root/nltk_data...\n",
            "[nltk_data]    |   Package udhr2 is already up-to-date!\n",
            "[nltk_data]    | Downloading package unicode_samples to\n",
            "[nltk_data]    |     /root/nltk_data...\n",
            "[nltk_data]    |   Package unicode_samples is already up-to-date!\n",
            "[nltk_data]    | Downloading package universal_tagset to\n",
            "[nltk_data]    |     /root/nltk_data...\n",
            "[nltk_data]    |   Package universal_tagset is already up-to-date!\n",
            "[nltk_data]    | Downloading package universal_treebanks_v20 to\n",
            "[nltk_data]    |     /root/nltk_data...\n",
            "[nltk_data]    |   Package universal_treebanks_v20 is already up-to-\n",
            "[nltk_data]    |       date!\n",
            "[nltk_data]    | Downloading package vader_lexicon to\n",
            "[nltk_data]    |     /root/nltk_data...\n",
            "[nltk_data]    |   Package vader_lexicon is already up-to-date!\n",
            "[nltk_data]    | Downloading package verbnet to /root/nltk_data...\n",
            "[nltk_data]    |   Package verbnet is already up-to-date!\n",
            "[nltk_data]    | Downloading package verbnet3 to /root/nltk_data...\n",
            "[nltk_data]    |   Package verbnet3 is already up-to-date!\n",
            "[nltk_data]    | Downloading package webtext to /root/nltk_data...\n",
            "[nltk_data]    |   Package webtext is already up-to-date!\n",
            "[nltk_data]    | Downloading package wmt15_eval to /root/nltk_data...\n",
            "[nltk_data]    |   Package wmt15_eval is already up-to-date!\n",
            "[nltk_data]    | Downloading package word2vec_sample to\n",
            "[nltk_data]    |     /root/nltk_data...\n",
            "[nltk_data]    |   Package word2vec_sample is already up-to-date!\n",
            "[nltk_data]    | Downloading package wordnet to /root/nltk_data...\n",
            "[nltk_data]    |   Package wordnet is already up-to-date!\n",
            "[nltk_data]    | Downloading package wordnet2021 to /root/nltk_data...\n",
            "[nltk_data]    |   Package wordnet2021 is already up-to-date!\n",
            "[nltk_data]    | Downloading package wordnet2022 to /root/nltk_data...\n",
            "[nltk_data]    |   Package wordnet2022 is already up-to-date!\n",
            "[nltk_data]    | Downloading package wordnet31 to /root/nltk_data...\n",
            "[nltk_data]    |   Package wordnet31 is already up-to-date!\n",
            "[nltk_data]    | Downloading package wordnet_ic to /root/nltk_data...\n",
            "[nltk_data]    |   Package wordnet_ic is already up-to-date!\n",
            "[nltk_data]    | Downloading package words to /root/nltk_data...\n",
            "[nltk_data]    |   Package words is already up-to-date!\n",
            "[nltk_data]    | Downloading package ycoe to /root/nltk_data...\n",
            "[nltk_data]    |   Package ycoe is already up-to-date!\n",
            "[nltk_data]    | \n",
            "[nltk_data]  Done downloading collection all\n"
          ]
        },
        {
          "output_type": "execute_result",
          "data": {
            "text/plain": [
              "True"
            ]
          },
          "metadata": {},
          "execution_count": 32
        }
      ],
      "source": [
        "import nltk\n",
        "nltk.download('all')"
      ]
    },
    {
      "cell_type": "markdown",
      "source": [],
      "metadata": {
        "id": "EguXGr-mFBIn"
      }
    },
    {
      "cell_type": "markdown",
      "source": [],
      "metadata": {
        "id": "GaDYdIr4lnpR"
      }
    },
    {
      "cell_type": "code",
      "source": [],
      "metadata": {
        "id": "oFZBnUhBlqMW"
      },
      "execution_count": null,
      "outputs": []
    },
    {
      "cell_type": "markdown",
      "source": [],
      "metadata": {
        "id": "yip75f1blrAQ"
      }
    },
    {
      "cell_type": "markdown",
      "source": [],
      "metadata": {
        "id": "dOgbcoSW-R1W"
      }
    },
    {
      "cell_type": "markdown",
      "source": [],
      "metadata": {
        "id": "NJ0sOvoqvwDa"
      }
    },
    {
      "cell_type": "markdown",
      "source": [
        "## 1. Write a program to tokenize the text."
      ],
      "metadata": {
        "id": "oEzMJYoE78ZX"
      }
    },
    {
      "cell_type": "code",
      "source": [
        "from nltk.tokenize import sent_tokenize, word_tokenize\n",
        "\n",
        "paragraph = \"\"\"Apple iPhone 15 series launch is less than 2 months away. Just like previous years, the Apple iPhone 15 series will likely comprise four models - Apple iPhone 15, Apple iPhone 15 Plus, Apple iPhone 15 Pro and Apple iPhone 15 Pro Max.\n",
        "Although Apple is not known to reveal any detail about its upcoming products, leaks often reveal what the company is planning and as per the latest leak, the standard Apple iPhone 15 models may get a new pink colour option.\"\"\"\n",
        "\n",
        "# Printing the sentence tokens in the paragraph\n",
        "sent_tokens = sent_tokenize(paragraph)\n",
        "print(\"Number of sentences in the given paragraph are: \", len(sent_tokens))\n",
        "print(\"Sentence tokens\", sent_tokens)\n",
        "\n",
        "# Printing the word tokens in the paragraph\n",
        "word_tokens = word_tokenize(paragraph)\n",
        "print(\"\\n\\nNumber of words in the given paragraph are: \", len(word_tokens))\n",
        "print(word_tokens)\n",
        "\n",
        "\n"
      ],
      "metadata": {
        "colab": {
          "base_uri": "https://localhost:8080/"
        },
        "id": "4guMhC5K78EN",
        "outputId": "d6235889-609f-4515-d17c-df1df8ea9bbf"
      },
      "execution_count": null,
      "outputs": [
        {
          "output_type": "stream",
          "name": "stdout",
          "text": [
            "Number of sentences in the given paragraph are:  3\n",
            "Sentence tokens ['Apple iPhone 15 series launch is less than 2 months away.', 'Just like previous years, the Apple iPhone 15 series will likely comprise four models - Apple iPhone 15, Apple iPhone 15 Plus, Apple iPhone 15 Pro and Apple iPhone 15 Pro Max.', 'Although Apple is not known to reveal any detail about its upcoming products, leaks often reveal what the company is planning and as per the latest leak, the standard Apple iPhone 15 models may get a new pink colour option.']\n",
            "\n",
            "\n",
            "Number of words in the given paragraph are:  91\n",
            "['Apple', 'iPhone', '15', 'series', 'launch', 'is', 'less', 'than', '2', 'months', 'away', '.', 'Just', 'like', 'previous', 'years', ',', 'the', 'Apple', 'iPhone', '15', 'series', 'will', 'likely', 'comprise', 'four', 'models', '-', 'Apple', 'iPhone', '15', ',', 'Apple', 'iPhone', '15', 'Plus', ',', 'Apple', 'iPhone', '15', 'Pro', 'and', 'Apple', 'iPhone', '15', 'Pro', 'Max', '.', 'Although', 'Apple', 'is', 'not', 'known', 'to', 'reveal', 'any', 'detail', 'about', 'its', 'upcoming', 'products', ',', 'leaks', 'often', 'reveal', 'what', 'the', 'company', 'is', 'planning', 'and', 'as', 'per', 'the', 'latest', 'leak', ',', 'the', 'standard', 'Apple', 'iPhone', '15', 'models', 'may', 'get', 'a', 'new', 'pink', 'colour', 'option', '.']\n"
          ]
        }
      ]
    },
    {
      "cell_type": "code",
      "source": [
        "tokenize the text,count the frequency and to remove the stop words"
      ],
      "metadata": {
        "id": "Y4_k5lnv7hh2"
      },
      "execution_count": null,
      "outputs": []
    },
    {
      "cell_type": "markdown",
      "source": [
        "## 2. Write a program to count the frequency and to remove the stop words."
      ],
      "metadata": {
        "id": "MqACJd93921J"
      }
    },
    {
      "cell_type": "markdown",
      "source": [
        "## 3. Write a program to tokenize the non-english words.\n"
      ],
      "metadata": {
        "id": "j4S8Aza9AtPc"
      }
    },
    {
      "cell_type": "code",
      "source": [
        "\n",
        "# Importing the list of stopwords from nltk.corpus package\n",
        "from nltk.corpus import stopwords\n",
        "stopwords = stopwords.words(\"english\")\n",
        "word_tokens = word_tokenize(paragraph)\n",
        "\n",
        "# Removing the duplicate words from the word_tokens list\n",
        "unique_words = set(word_tokens)\n",
        "\n",
        "# Creating a dictionary of words and their frequency\n",
        "words_dict = {}\n",
        "for word in unique_words:\n",
        "  words_dict[word] = word_tokens.count(word)\n",
        "\n",
        "# Printing the dict of unique words and their frequencies\n",
        "print(\"Dictionary of words and their frequencies: \",words_dict)\n",
        "\n",
        "# Removing the stop words and updating the word_tokens list\n",
        "for word in unique_words:\n",
        "  if word in stopwords:\n",
        "    word_tokens.remove(word)\n",
        "\n",
        "# Printing the list of word after removing the stopwords\n",
        "print(\"\\nList of words after removing the stop words: \",word_tokens)"
      ],
      "metadata": {
        "colab": {
          "base_uri": "https://localhost:8080/"
        },
        "id": "T0MEnToU9_pt",
        "outputId": "3b3e8fb7-25f0-4bf1-9733-db1461bde587"
      },
      "execution_count": null,
      "outputs": [
        {
          "output_type": "stream",
          "name": "stdout",
          "text": [
            "Dictionary of words and their frequencies:  {'is': 3, 'may': 1, 'not': 1, 'reveal': 2, 'Although': 1, 'to': 1, 'company': 1, '15': 7, 'likely': 1, 'comprise': 1, 'products': 1, 'per': 1, 'option': 1, 'years': 1, 'than': 1, 'the': 4, 'Max': 1, 'any': 1, 'as': 1, '.': 3, 'upcoming': 1, 'about': 1, 'often': 1, 'away': 1, 'Plus': 1, 'pink': 1, 'what': 1, 'Just': 1, 'Pro': 2, 'like': 1, 'and': 2, 'leak': 1, 'get': 1, 'launch': 1, 'standard': 1, 'known': 1, 'detail': 1, 'latest': 1, 'leaks': 1, '2': 1, 'months': 1, 'colour': 1, 'four': 1, 'will': 1, ',': 5, 'new': 1, 'previous': 1, 'series': 2, 'its': 1, 'models': 2, 'a': 1, 'Apple': 8, 'iPhone': 7, '-': 1, 'planning': 1, 'less': 1}\n",
            "\n",
            "List of words after removing the stop words:  ['Apple', 'iPhone', '15', 'series', 'launch', 'less', '2', 'months', 'away', '.', 'Just', 'like', 'previous', 'years', ',', 'Apple', 'iPhone', '15', 'series', 'likely', 'comprise', 'four', 'models', '-', 'Apple', 'iPhone', '15', ',', 'Apple', 'iPhone', '15', 'Plus', ',', 'Apple', 'iPhone', '15', 'Pro', 'Apple', 'iPhone', '15', 'Pro', 'Max', '.', 'Although', 'Apple', 'is', 'known', 'reveal', 'detail', 'upcoming', 'products', ',', 'leaks', 'often', 'reveal', 'the', 'company', 'is', 'planning', 'and', 'per', 'the', 'latest', 'leak', ',', 'the', 'standard', 'Apple', 'iPhone', '15', 'models', 'may', 'get', 'new', 'pink', 'colour', 'option', '.']\n"
          ]
        }
      ]
    },
    {
      "cell_type": "code",
      "source": [
        "words = set(nltk.corpus.words.words())\n",
        "\n",
        "sent = \" \".join(w for w in nltk.wordpunct_tokenize(sent) if w.lower() in words or not w.isalpha())\n",
        "print(\"After removing the non-english words from the sentence:\\n\",sent)"
      ],
      "metadata": {
        "colab": {
          "base_uri": "https://localhost:8080/"
        },
        "id": "6zTKTz2bNX89",
        "outputId": "2b4da254-e0eb-4852-d43a-f2676beb8173"
      },
      "execution_count": null,
      "outputs": [
        {
          "output_type": "stream",
          "name": "stdout",
          "text": [
            "After removing the non-english words from the sentence:\n",
            " The first sentence in a paragraph is sometimes the key or topic sentence because it us the key to what the paragraph will be about\n"
          ]
        }
      ]
    },
    {
      "cell_type": "code",
      "source": [],
      "metadata": {
        "id": "h2yytJnmZe8w"
      },
      "execution_count": null,
      "outputs": []
    },
    {
      "cell_type": "markdown",
      "source": [],
      "metadata": {
        "id": "BnMfvJ0cZfks"
      }
    },
    {
      "cell_type": "code",
      "source": [],
      "metadata": {
        "id": "hu-XWq2iZfA_"
      },
      "execution_count": null,
      "outputs": []
    },
    {
      "cell_type": "code",
      "source": [
        "sent= \"\"\"The first sentence in a paragraph alskdfja is sometimes called the key or topic lsakdfjasdlk sentence because it gives us the key to what the paragraph will be about \"\"\""
      ],
      "metadata": {
        "id": "liQuAp7L_6cJ"
      },
      "execution_count": null,
      "outputs": []
    },
    {
      "cell_type": "markdown",
      "source": [
        "## 4. Write a program to get synonyms from Wordnet."
      ],
      "metadata": {
        "id": "VmqucmQCUTut"
      }
    },
    {
      "cell_type": "code",
      "source": [
        "import nltk\n",
        "\n",
        "def get_synonyms(word):\n",
        "  \"\"\"Gets the synonyms of a word from WordNet.\n",
        "\n",
        "  Args:\n",
        "    word: The word to get the synonyms for.\n",
        "\n",
        "  Returns:\n",
        "    A list of synonyms.\n",
        "  \"\"\"\n",
        "\n",
        "  # Import WordNet.\n",
        "  wordnet = nltk.corpus.wordnet\n",
        "\n",
        "  # Get the synsets for the word.\n",
        "  synsets = wordnet.synsets(word)\n",
        "\n",
        "  # Create a list of synonyms.\n",
        "  synonyms = []\n",
        "\n",
        "  # Iterate over the synsets.\n",
        "  for synset in synsets:\n",
        "    # Get the lemmas for the synset.\n",
        "    lemmas = synset.lemmas()\n",
        "\n",
        "    # Add the lemmas to the list of synonyms.\n",
        "    for lemma in lemmas:\n",
        "      synonyms.append(lemma.name())\n",
        "\n",
        "  # Return the list of synonyms.\n",
        "  return synonyms\n",
        "\n",
        "\n",
        "if __name__ == \"__main__\":\n",
        "  word = input(\"Enter a word: \")\n",
        "  synonyms = get_synonyms(word)\n",
        "  print(\"The synonyms of {} are: {}\".format(word, synonyms))\n"
      ],
      "metadata": {
        "id": "X0nB462qCP8i",
        "colab": {
          "base_uri": "https://localhost:8080/"
        },
        "outputId": "a2dacf66-377c-4c17-efc4-3adc44011f49"
      },
      "execution_count": null,
      "outputs": [
        {
          "output_type": "stream",
          "name": "stdout",
          "text": [
            "Enter a word: healthy\n",
            "The synonyms of healthy are: ['healthy', 'healthy', 'healthy', 'salubrious', 'good_for_you', 'healthy', 'intelligent', 'levelheaded', 'level-headed', 'sound', 'goodly', 'goodish', 'healthy', 'hefty', 'respectable', 'sizable', 'sizeable', 'tidy']\n"
          ]
        }
      ]
    },
    {
      "cell_type": "markdown",
      "source": [
        "## 5. Write a program to get Antonyms from wordnet."
      ],
      "metadata": {
        "id": "RA2Rk_UeUc3T"
      }
    },
    {
      "cell_type": "code",
      "source": [
        "import nltk\n",
        "\n",
        "def get_antonyms(word):\n",
        "  \"\"\"Gets the antonyms of a word from WordNet.\n",
        "\n",
        "  Args:\n",
        "    word: The word to get the antonyms for.\n",
        "\n",
        "  Returns:\n",
        "    A list of antonyms.\n",
        "  \"\"\"\n",
        "\n",
        "  # Import WordNet.\n",
        "  wordnet = nltk.corpus.wordnet\n",
        "\n",
        "  # Get the synsets for the word.\n",
        "  synsets = wordnet.synsets(word)\n",
        "\n",
        "  # Create a list of antonyms.\n",
        "  antonyms = []\n",
        "\n",
        "  # Iterate over the synsets.\n",
        "  for synset in synsets:\n",
        "    # Get the lemmas for the synset.\n",
        "    lemmas = synset.lemmas()\n",
        "\n",
        "    # Add the antonyms to the list of synonyms.\n",
        "    for lemma in lemmas:\n",
        "      if lemma.antonyms():\n",
        "        antonyms.append(lemma.antonyms()[0].name())\n",
        "\n",
        "  # Return the list of antonyms.\n",
        "  return antonyms\n",
        "\n",
        "\n",
        "if __name__ == \"__main__\":\n",
        "  word = input(\"Enter a word: \")\n",
        "  antonyms = get_antonyms(word)\n",
        "  print(\"The antonyms of {} are: {}\".format(word, antonyms))\n",
        "\n",
        "\n",
        "\n"
      ],
      "metadata": {
        "colab": {
          "base_uri": "https://localhost:8080/"
        },
        "id": "1LUrIAC3Uas-",
        "outputId": "b6992eda-8a05-4c1c-c33f-f6594508ccbe"
      },
      "execution_count": null,
      "outputs": [
        {
          "output_type": "stream",
          "name": "stdout",
          "text": [
            "Enter a word: dead\n",
            "The antonyms of dead are: ['living', 'alive', 'live']\n"
          ]
        }
      ]
    },
    {
      "cell_type": "markdown",
      "source": [
        "## 7. Write a program to lemmatizing words using Wordnet."
      ],
      "metadata": {
        "id": "fI8zDIyxOss0"
      }
    },
    {
      "cell_type": "code",
      "source": [
        "import nltk\n",
        "from nltk.corpus import wordnet\n",
        "from nltk.stem import WordNetLemmatizer\n",
        "\n",
        "\n",
        "def lemmatize(word):\n",
        "\n",
        "  lemmatizer = WordNetLemmatizer()\n",
        "  lemmatized_word = lemmatizer.lemmatize(word, wordnet.VERB)\n",
        "  return lemmatized_word\n",
        "\n",
        "\n",
        "if __name__ == \"__main__\":\n",
        "  sentence = \"The laughs you two heard were triggered by memories of his own high j-flying exits for moving beasts\"\n",
        "  words = sentence.split(\" \")\n",
        "  lemmatized_words = []\n",
        "  for word in words:\n",
        "    lemmatized_words.append(lemmatize(word))\n",
        "  print(\"Lemmatized words: \",lemmatized_words)\n",
        "\n",
        "\n",
        "\n",
        "\n"
      ],
      "metadata": {
        "id": "MEWM-RW3Ore8",
        "colab": {
          "base_uri": "https://localhost:8080/"
        },
        "outputId": "8dead2f4-5be2-47ea-da01-e170981d5505"
      },
      "execution_count": null,
      "outputs": [
        {
          "output_type": "stream",
          "name": "stdout",
          "text": [
            "Lemmatized words:  ['The', 'laugh', 'you', 'two', 'hear', 'be', 'trigger', 'by', 'memories', 'of', 'his', 'own', 'high', 'j-flying', 'exit', 'for', 'move', 'beasts']\n"
          ]
        }
      ]
    },
    {
      "cell_type": "markdown",
      "source": [
        "## 8. Write a program to differentiate the stemming and lemmatization of words."
      ],
      "metadata": {
        "id": "dqf30ajHUKbg"
      }
    },
    {
      "cell_type": "code",
      "source": [
        "import nltk\n",
        "from nltk.stem import PorterStemmer, WordNetLemmatizer\n",
        "\n",
        "def stem(word):\n",
        "  \"\"\"Stems a word using the Porter Stemmer.\n",
        "\n",
        "  Args:\n",
        "    word: The word to stem.\n",
        "\n",
        "  Returns:\n",
        "    The stemmed word.\n",
        "  \"\"\"\n",
        "\n",
        "  stemmer = PorterStemmer()\n",
        "  return stemmer.stem(word)\n",
        "\n",
        "def lemmatize(word):\n",
        "  \"\"\"Lemmatizes a word using WordNet.\n",
        "\n",
        "  Args:\n",
        "    word: The word to lemmatize.\n",
        "\n",
        "  Returns:\n",
        "    The lemmatized word.\n",
        "  \"\"\"\n",
        "\n",
        "  lemmatizer = WordNetLemmatizer()\n",
        "  return lemmatizer.lemmatize(word)\n",
        "\n",
        "if __name__ == \"__main__\":\n",
        "  words = [\"cats\", \"running\", \"better\", \"caring\"]\n",
        "  stemmed_words = []\n",
        "  lemmatized_words = []\n",
        "\n",
        "  for word in words:\n",
        "    stemmed_words.append(stem(word))\n",
        "    lemmatized_words.append(lemmatize(word))\n",
        "  print(\"Stemmed words:\")\n",
        "  print(stemmed_words)\n",
        "  print(\"Lemmatized words:\")\n",
        "  print(lemmatized_words)\n"
      ],
      "metadata": {
        "colab": {
          "base_uri": "https://localhost:8080/"
        },
        "id": "bCTsKGZLTSr-",
        "outputId": "824ec1d9-721a-4b94-8aec-3a3a015d0b15"
      },
      "execution_count": null,
      "outputs": [
        {
          "output_type": "stream",
          "name": "stdout",
          "text": [
            "Stemmed words:\n",
            "['cat', 'run', 'better', 'care']\n",
            "Lemmatized words:\n",
            "['cat', 'running', 'better', 'caring']\n"
          ]
        }
      ]
    },
    {
      "cell_type": "markdown",
      "source": [
        "## 9. Write a program for POS Tagging or Word Embeddings."
      ],
      "metadata": {
        "id": "QBMI4W8SUVip"
      }
    },
    {
      "cell_type": "code",
      "source": [
        "import nltk\n",
        "\n",
        "def pos_tag(text):\n",
        "  \"\"\"POS tags a text using the NLTK library.\n",
        "\n",
        "  Args:\n",
        "    text: The text to POS tag.\n",
        "\n",
        "  Returns:\n",
        "    A list of tuples, where each tuple contains a word and its POS tag.\n",
        "  \"\"\"\n",
        "\n",
        "  tokens = nltk.word_tokenize(text)\n",
        "  tags = nltk.pos_tag(tokens)\n",
        "  return tags\n",
        "\n",
        "if __name__ == \"__main__\":\n",
        "  text = \"This is a simple example.\"\n",
        "  tags = pos_tag(text)\n",
        "  print(tags)\n"
      ],
      "metadata": {
        "colab": {
          "base_uri": "https://localhost:8080/"
        },
        "id": "ALaY4hFRUUSs",
        "outputId": "46415b98-2488-4547-d0a1-a73008e490ae"
      },
      "execution_count": null,
      "outputs": [
        {
          "output_type": "stream",
          "name": "stdout",
          "text": [
            "[('This', 'DT'), ('is', 'VBZ'), ('a', 'DT'), ('simple', 'JJ'), ('example', 'NN'), ('.', '.')]\n"
          ]
        }
      ]
    },
    {
      "cell_type": "code",
      "source": [],
      "metadata": {
        "id": "sCBgLXYeUl9z"
      },
      "execution_count": null,
      "outputs": []
    }
  ]
}
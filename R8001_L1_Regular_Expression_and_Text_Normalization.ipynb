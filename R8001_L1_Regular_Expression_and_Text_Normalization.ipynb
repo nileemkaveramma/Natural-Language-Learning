{
  "nbformat": 4,
  "nbformat_minor": 0,
  "metadata": {
    "colab": {
      "provenance": []
    },
    "kernelspec": {
      "name": "python3",
      "display_name": "Python 3"
    },
    "language_info": {
      "name": "python"
    }
  },
  "cells": [
    {
      "cell_type": "markdown",
      "source": [
        "**Lab1: Regular Expression and Text Normalization**\n",
        "* Created by : Nileem Kaveramma C C\n",
        "*  2348441\n",
        "\n",
        "\n",
        "\n",
        "\n",
        "\n"
      ],
      "metadata": {
        "id": "dyV5GBcnIswH"
      }
    },
    {
      "cell_type": "markdown",
      "source": [
        "* **Regular expressions** : are sequences of characters that define a search pattern.\n",
        "* **Text normalization** refers to the process of transforming text that follows consistent rules and formats."
      ],
      "metadata": {
        "id": "K0ykUu4HI-lX"
      }
    },
    {
      "cell_type": "markdown",
      "source": [
        "**IMPORTED LIBRARIES**\n",
        "* **import re** : allows you to work with regular expressions, which are powerful tools for pattern matching and text manipulation.\n",
        "*import string **bold text**: provides access to common string operations and constants.\n",
        "* **from collections import Counter** : provides a convenient way to count the occurrences of elements in an iterable.\n",
        "* **import PyPDF2** : read, manipulate, and extract information from PDF files\n",
        "* **import pandas as pd** : enables efficient data manipulation and analysis"
      ],
      "metadata": {
        "id": "QfO4ZBj2K10-"
      }
    },
    {
      "cell_type": "markdown",
      "source": [
        "**Installing the nltk (Natural Language Toolkit)** library allows you to perform natural language processing tasks such as text analysis, tokenization, and linguistic data manipulation, facilitating the development of language-based applications."
      ],
      "metadata": {
        "id": "P33CEL3wOgYR"
      }
    },
    {
      "cell_type": "code",
      "execution_count": null,
      "metadata": {
        "colab": {
          "base_uri": "https://localhost:8080/"
        },
        "id": "byo8ylncmcwG",
        "outputId": "350f42e6-fad0-407c-80d8-07678ee1d65b"
      },
      "outputs": [
        {
          "output_type": "stream",
          "name": "stdout",
          "text": [
            "Requirement already satisfied: nltk in /usr/local/lib/python3.10/dist-packages (3.8.1)\n",
            "Requirement already satisfied: click in /usr/local/lib/python3.10/dist-packages (from nltk) (8.1.7)\n",
            "Requirement already satisfied: joblib in /usr/local/lib/python3.10/dist-packages (from nltk) (1.4.2)\n",
            "Requirement already satisfied: regex>=2021.8.3 in /usr/local/lib/python3.10/dist-packages (from nltk) (2024.5.15)\n",
            "Requirement already satisfied: tqdm in /usr/local/lib/python3.10/dist-packages (from nltk) (4.66.4)\n"
          ]
        }
      ],
      "source": [
        "!pip install nltk"
      ]
    },
    {
      "cell_type": "markdown",
      "source": [
        "**Paragraph** : The BSE Sensex and the Nifty may attempt to scale new highs in trades today following a strong finish led by IT shares last week.\n",
        "The S&P BSE Sensex hit an all-time high of 80,894, and the Nifty 24,592, before settling with gains of 622 points and 186 points, respectively, at 80,519 and 24,502 on Friday.\n",
        "That apart, investors will also react to an uptick in CPI-based inflation to 5.08 per cent in June, and stronger growth in India of Industrial Production at 5.9 per cent in May. Today, the WPI-based inflation numbers will be released"
      ],
      "metadata": {
        "id": "YVWYETBciwiY"
      }
    },
    {
      "cell_type": "code",
      "source": [
        "paragraph = \"\"\"\n",
        "The BSE Sensex and the Nifty may attempt to scale new highs in trades today following a strong finish led by IT shares last week.\n",
        "The S&P BSE Sensex hit an all-time high of 80,894, and the Nifty 24,592, before settling with gains of 622 points and 186 points, respectively, at 80,519 and 24,502 on Friday.\n",
        "That apart, investors will also react to an uptick in CPI-based inflation to 5.08 per cent in June, and stronger growth in India of Industrial Production at 5.9 per cent in May. Today, the WPI-based inflation numbers will be released.\n",
        "\"\"\"\n"
      ],
      "metadata": {
        "id": "Z-UdhJSVRk5f"
      },
      "execution_count": null,
      "outputs": []
    },
    {
      "cell_type": "markdown",
      "source": [
        "**Question**: Write a program to print the number of total words and total unique words in the\n",
        "paragraph."
      ],
      "metadata": {
        "id": "U-GkG3JnlXHk"
      }
    },
    {
      "cell_type": "code",
      "source": [
        "import re\n",
        "def count_words(paragraph):\n",
        "# Remove punctuation and make all words lowercase\n",
        "    words = re.findall(r'\\b\\w+\\b', paragraph.lower())\n",
        "\n",
        "    total_words = len(words)\n",
        "    unique_words = len(set(words))\n",
        "\n",
        "    return total_words, unique_words\n",
        "\n",
        "# Count words\n",
        "total_words, unique_words = count_words(paragraph)\n",
        "\n",
        "print(f\"Total words: {total_words}\")\n",
        "print(f\"Unique words: {unique_words}\")\n"
      ],
      "metadata": {
        "colab": {
          "base_uri": "https://localhost:8080/"
        },
        "id": "eLpnopusi2hK",
        "outputId": "654188e0-9078-429d-d7b1-a1f424d51d0f"
      },
      "execution_count": null,
      "outputs": [
        {
          "output_type": "stream",
          "name": "stdout",
          "text": [
            "Total words: 106\n",
            "Unique words: 74\n"
          ]
        }
      ]
    },
    {
      "cell_type": "markdown",
      "source": [
        "* We found out that the number of total words is 106 and total unique words in the paragraph 74.\n",
        "* *\\b\\w+\\b : It ensures that the pattern matches complete words and not just parts of words within a larger string of text\n"
      ],
      "metadata": {
        "id": "OBl-yVN_oX4e"
      }
    },
    {
      "cell_type": "markdown",
      "source": [
        "**Question:** Find the frequency of all words and also display the most and least frequent word."
      ],
      "metadata": {
        "id": "fhfWqBXHlbvZ"
      }
    },
    {
      "cell_type": "code",
      "source": [
        "import re\n",
        "from collections import Counter\n",
        "\n",
        "def count_words(paragraph):\n",
        "    # Remove punctuation and make all words lowercase\n",
        "    words = re.findall(r'\\b\\w+\\b', paragraph.lower())\n",
        "\n",
        "    total_words = len(words)\n",
        "    unique_words = len(set(words))\n",
        "    word_frequencies = Counter(words)\n",
        "\n",
        "    return total_words, unique_words, word_frequencies\n",
        "\n",
        "# Count words\n",
        "total_words, unique_words, word_frequencies = count_words(paragraph)\n",
        "\n",
        "# Find the most and least frequent words\n",
        "most_frequent_word = word_frequencies.most_common(1)[0]\n",
        "least_frequent_words = [word for word, freq in word_frequencies.items() if freq == 1]\n",
        "\n",
        "print(f\"Total words: {total_words}\")\n",
        "print(f\"Unique words: {unique_words}\")\n",
        "print(f\"Word frequencies: {word_frequencies}\")\n",
        "print(f\"Most frequent word: {most_frequent_word}\")\n",
        "print(f\"Least frequent words: {least_frequent_words}\")\n"
      ],
      "metadata": {
        "colab": {
          "base_uri": "https://localhost:8080/"
        },
        "id": "lpjDyCA9kIJ5",
        "outputId": "748b8d22-70fc-4b64-9cf8-c673fa722981"
      },
      "execution_count": null,
      "outputs": [
        {
          "output_type": "stream",
          "name": "stdout",
          "text": [
            "Total words: 106\n",
            "Unique words: 74\n",
            "Word frequencies: Counter({'the': 5, 'and': 5, 'in': 5, 'to': 3, 'of': 3, 'bse': 2, 'sensex': 2, 'nifty': 2, 'may': 2, 'today': 2, 'an': 2, '80': 2, '24': 2, 'points': 2, 'at': 2, 'will': 2, 'based': 2, 'inflation': 2, '5': 2, 'per': 2, 'cent': 2, 'attempt': 1, 'scale': 1, 'new': 1, 'highs': 1, 'trades': 1, 'following': 1, 'a': 1, 'strong': 1, 'finish': 1, 'led': 1, 'by': 1, 'it': 1, 'shares': 1, 'last': 1, 'week': 1, 's': 1, 'p': 1, 'hit': 1, 'all': 1, 'time': 1, 'high': 1, '894': 1, '592': 1, 'before': 1, 'settling': 1, 'with': 1, 'gains': 1, '622': 1, '186': 1, 'respectively': 1, '519': 1, '502': 1, 'on': 1, 'friday': 1, 'that': 1, 'apart': 1, 'investors': 1, 'also': 1, 'react': 1, 'uptick': 1, 'cpi': 1, '08': 1, 'june': 1, 'stronger': 1, 'growth': 1, 'india': 1, 'industrial': 1, 'production': 1, '9': 1, 'wpi': 1, 'numbers': 1, 'be': 1, 'released': 1})\n",
            "Most frequent word: ('the', 5)\n",
            "Least frequent words: ['attempt', 'scale', 'new', 'highs', 'trades', 'following', 'a', 'strong', 'finish', 'led', 'by', 'it', 'shares', 'last', 'week', 's', 'p', 'hit', 'all', 'time', 'high', '894', '592', 'before', 'settling', 'with', 'gains', '622', '186', 'respectively', '519', '502', 'on', 'friday', 'that', 'apart', 'investors', 'also', 'react', 'uptick', 'cpi', '08', 'june', 'stronger', 'growth', 'india', 'industrial', 'production', '9', 'wpi', 'numbers', 'be', 'released']\n"
          ]
        }
      ]
    },
    {
      "cell_type": "markdown",
      "source": [
        "**Question:** FInd the longest word in the paragraph."
      ],
      "metadata": {
        "id": "ewjOWh2HlkLs"
      }
    },
    {
      "cell_type": "code",
      "source": [
        "import re\n",
        "from collections import Counter\n",
        "\n",
        "def count_words(paragraph):\n",
        "    # Remove punctuation and make all words lowercase\n",
        "    words = re.findall(r'\\b\\w+\\b', paragraph.lower())\n",
        "\n",
        "    total_words = len(words)\n",
        "    unique_words = len(set(words))\n",
        "    word_frequencies = Counter(words)\n",
        "\n",
        "    return total_words, unique_words, word_frequencies, words\n",
        "\n",
        "def find_longest_word(words):\n",
        "    longest_word = max(words, key=len)\n",
        "    return longest_word\n",
        "\n",
        "# Count words\n",
        "total_words, unique_words, word_frequencies, words = count_words(paragraph)\n",
        "\n",
        "# Find the most and least frequent words\n",
        "most_frequent_word = word_frequencies.most_common(1)[0]\n",
        "least_frequent_words = [word for word, freq in word_frequencies.items() if freq == 1]\n",
        "\n",
        "# Find the longest word\n",
        "longest_word = find_longest_word(words)\n",
        "\n",
        "print(f\"Total words: {total_words}\")\n",
        "print(f\"Unique words: {unique_words}\")\n",
        "print(f\"Word frequencies: {word_frequencies}\")\n",
        "print(f\"Most frequent word: {most_frequent_word}\")\n",
        "print(f\"Least frequent words: {least_frequent_words}\")\n",
        "print(f\"Longest word: {longest_word}\")\n"
      ],
      "metadata": {
        "colab": {
          "base_uri": "https://localhost:8080/"
        },
        "id": "Pf46U9s7kcSc",
        "outputId": "25109ec3-046d-42c3-f709-ab5b0011bffa"
      },
      "execution_count": null,
      "outputs": [
        {
          "output_type": "stream",
          "name": "stdout",
          "text": [
            "Total words: 106\n",
            "Unique words: 74\n",
            "Word frequencies: Counter({'the': 5, 'and': 5, 'in': 5, 'to': 3, 'of': 3, 'bse': 2, 'sensex': 2, 'nifty': 2, 'may': 2, 'today': 2, 'an': 2, '80': 2, '24': 2, 'points': 2, 'at': 2, 'will': 2, 'based': 2, 'inflation': 2, '5': 2, 'per': 2, 'cent': 2, 'attempt': 1, 'scale': 1, 'new': 1, 'highs': 1, 'trades': 1, 'following': 1, 'a': 1, 'strong': 1, 'finish': 1, 'led': 1, 'by': 1, 'it': 1, 'shares': 1, 'last': 1, 'week': 1, 's': 1, 'p': 1, 'hit': 1, 'all': 1, 'time': 1, 'high': 1, '894': 1, '592': 1, 'before': 1, 'settling': 1, 'with': 1, 'gains': 1, '622': 1, '186': 1, 'respectively': 1, '519': 1, '502': 1, 'on': 1, 'friday': 1, 'that': 1, 'apart': 1, 'investors': 1, 'also': 1, 'react': 1, 'uptick': 1, 'cpi': 1, '08': 1, 'june': 1, 'stronger': 1, 'growth': 1, 'india': 1, 'industrial': 1, 'production': 1, '9': 1, 'wpi': 1, 'numbers': 1, 'be': 1, 'released': 1})\n",
            "Most frequent word: ('the', 5)\n",
            "Least frequent words: ['attempt', 'scale', 'new', 'highs', 'trades', 'following', 'a', 'strong', 'finish', 'led', 'by', 'it', 'shares', 'last', 'week', 's', 'p', 'hit', 'all', 'time', 'high', '894', '592', 'before', 'settling', 'with', 'gains', '622', '186', 'respectively', '519', '502', 'on', 'friday', 'that', 'apart', 'investors', 'also', 'react', 'uptick', 'cpi', '08', 'june', 'stronger', 'growth', 'india', 'industrial', 'production', '9', 'wpi', 'numbers', 'be', 'released']\n",
            "Longest word: respectively\n"
          ]
        }
      ]
    },
    {
      "cell_type": "markdown",
      "source": [
        "Q2. Regular Expression\n",
        "Solve exercise 2.1 and 2.2 from Text book of Speech and Language Processing of Daniel\n",
        "Jurafsky and team"
      ],
      "metadata": {
        "id": "rEvHCMNxnGfi"
      }
    },
    {
      "cell_type": "markdown",
      "source": [
        "**Question:** regular expressions for the following languages.\n",
        "\n",
        "\n",
        "\n",
        "\n"
      ],
      "metadata": {
        "id": "ag32k-qznHh9"
      }
    },
    {
      "cell_type": "code",
      "source": [
        "# 1. the set of all alphabetic strings\n",
        "regex_alphabetic_strings = r'[a-zA-Z]+'\n",
        "\n",
        "# 2.the set of all lower case alphabetic strings ending in a b;\n",
        "regex_lower_case_b = r'[a-z]*b'\n",
        "\n",
        "# 3. the set of all strings from the alphabet a,b such that each a is immediately preceded by and immediately followed by a b\n",
        "regex_a_preceded_by_b = r'b(ab)*'"
      ],
      "metadata": {
        "id": "6fiQDDU3qqPD"
      },
      "execution_count": null,
      "outputs": []
    },
    {
      "cell_type": "markdown",
      "source": [
        "**Question:** the set of all strings with two consecutive repeated words"
      ],
      "metadata": {
        "id": "enfnqAKGsGtL"
      }
    },
    {
      "cell_type": "code",
      "source": [
        "import re\n",
        "\n",
        "# Define the regular expression pattern for consecutive repeated words\n",
        "pattern = r'\\b(\\w+)\\s+\\1\\b'\n",
        "\n",
        "# Convert the paragraph to lowercase to ensure case insensitivity\n",
        "lowercase_paragraph = paragraph.lower()\n",
        "\n",
        "# Find all words in the paragraph\n",
        "words = re.findall(r'\\b\\w+\\b', lowercase_paragraph)\n",
        "\n",
        "# Initialize a set to store unique repeated words\n",
        "repeated_words = set()\n",
        "\n",
        "# Check each word against the pattern\n",
        "for word in words:\n",
        "    match = re.search(pattern, word)\n",
        "    if match:\n",
        "        repeated_words.add(match.group(1))  # Add the repeated word to the set\n",
        "\n",
        "# Print the results\n",
        "if repeated_words:\n",
        "    print(f\"The following words have consecutive repeats in the paragraph: {', '.join(repeated_words)}\")\n",
        "else:\n",
        "    print(\"No consecutive repeated words found in the paragraph.\")\n",
        "\n"
      ],
      "metadata": {
        "colab": {
          "base_uri": "https://localhost:8080/"
        },
        "id": "z69bLXUzsJrh",
        "outputId": "ccc8dada-e6c3-4295-cfe0-34cefad76a6a"
      },
      "execution_count": null,
      "outputs": [
        {
          "output_type": "stream",
          "name": "stdout",
          "text": [
            "No consecutive repeated words found in the paragraph.\n"
          ]
        }
      ]
    },
    {
      "cell_type": "markdown",
      "source": [
        "Here we found out that there is no set of  strings with two consecutive repeated words"
      ],
      "metadata": {
        "id": "7-_nZ5fzoz4m"
      }
    },
    {
      "cell_type": "markdown",
      "source": [
        "**Question:** all strings that start at the beginning of the line with an integer and that\n",
        "end at the end of the line with a word;\n"
      ],
      "metadata": {
        "id": "8IOnHAB8suBe"
      }
    },
    {
      "cell_type": "code",
      "source": [
        "import re\n",
        "\n",
        "# Define the paragraph\n",
        "paragraph = \"\"\"\n",
        "The BSE Sensex and the Nifty may attempt to scale new highs in trades today following a strong finish led by IT shares last week.\n",
        "The S&P BSE Sensex hit an all-time high of 80,894, and the Nifty 24,592, before settling with gains of 622 points and 186 points, respectively, at 80,519 and 24,502 on Friday.\n",
        "That apart, investors will also react to an uptick in CPI-based inflation to 5.08 per cent in June, and stronger growth in India of Industrial Production at 5.9 per cent in May. Today, the WPI-based inflation numbers will be released.\n",
        "\"\"\"\n",
        "\n",
        "# Define the regular expression pattern for lines starting with an integer and ending with a word\n",
        "pattern = r'^\\d+.*\\b\\w+\\b$'\n",
        "\n",
        "# Split the paragraph into lines\n",
        "lines = paragraph.splitlines()\n",
        "\n",
        "# Initialize a counter for matching lines\n",
        "count_matches = 0\n",
        "\n",
        "# Check each line against the pattern\n",
        "for line in lines:\n",
        "    if re.match(pattern, line.strip()):\n",
        "        count_matches += 1\n",
        "\n",
        "# Print the count of matching lines\n",
        "print(f\"Number of lines starting with an integer and ending with a word: {count_matches}\")\n"
      ],
      "metadata": {
        "colab": {
          "base_uri": "https://localhost:8080/"
        },
        "id": "_4eNpyjWtuzl",
        "outputId": "ad44001a-9cb7-4a88-ace8-c6f93b1f5d83"
      },
      "execution_count": null,
      "outputs": [
        {
          "output_type": "stream",
          "name": "stdout",
          "text": [
            "Number of lines starting with an integer and ending with a word: 0\n"
          ]
        }
      ]
    },
    {
      "cell_type": "code",
      "source": [
        "import re\n",
        "\n",
        "# Define the paragraph\n",
        "paragraph = \"\"\"\n",
        "The BSE Sensex and the Nifty may attempt to scale new highs in trades today following a strong finish led by IT shares last week.\n",
        "The S&P BSE Sensex hit an all-time high of 80,894, and the Nifty 24,592, before settling with gains of 622 points and 186 points, respectively, at 80,519 and 24,502 on Friday.\n",
        "That apart, investors will also react to an uptick in CPI-based inflation to 5.08 per cent in June, and stronger growth in India of Industrial Production at 5.9 per cent in May. Today, the WPI-based inflation numbers will be released.\n",
        "\"\"\"\n",
        "\n",
        "# Define the regular expression pattern to check for both \"grotto\" and \"raven\"\n",
        "pattern = r'\\bgrotto\\b.*\\braven\\b|\\braven\\b.*\\bgrotto\\b'\n",
        "\n",
        "# Search for the pattern in the paragraph\n",
        "match = re.search(pattern, paragraph, re.IGNORECASE)  # Use re.IGNORECASE for case insensitivity\n",
        "\n",
        "# Check if both words are found\n",
        "if match:\n",
        "    print(\"Both 'grotto' and 'raven' are present in the paragraph.\")\n",
        "else:\n",
        "    print(\"Either 'grotto' or 'raven' or both are NOT present in the paragraph.\")\n"
      ],
      "metadata": {
        "colab": {
          "base_uri": "https://localhost:8080/"
        },
        "id": "0432tWB5uSWq",
        "outputId": "c0010b5f-f389-4f04-c1fb-f2b4ea55c723"
      },
      "execution_count": null,
      "outputs": [
        {
          "output_type": "stream",
          "name": "stdout",
          "text": [
            "Either 'grotto' or 'raven' or both are NOT present in the paragraph.\n"
          ]
        }
      ]
    },
    {
      "cell_type": "markdown",
      "source": [
        "**Question:** write a pattern that places the first word of an English sentence in a\n",
        "register. Deal with punctuation."
      ],
      "metadata": {
        "id": "mwM_X-gcvBns"
      }
    },
    {
      "cell_type": "code",
      "source": [
        "import re\n",
        "\n",
        "# Define the paragraph with example sentences\n",
        "paragraph = \"\"\"\n",
        "The BSE Sensex and the Nifty may attempt to scale new highs in trades today following a strong finish led by IT shares last week.\n",
        "The S&P BSE Sensex hit an all-time high of 80,894, and the Nifty 24,592, before settling with gains of 622 points and 186 points, respectively, at 80,519 and 24,502 on Friday.\n",
        "That apart, investors will also react to an uptick in CPI-based inflation to 5.08 per cent in June, and stronger growth in India of Industrial Production at 5.9 per cent in May. Today, the WPI-based inflation numbers will be released.\n",
        "\"\"\"\n",
        "\n",
        "# Define the regular expression pattern to capture the first word of each sentence\n",
        "pattern = r'(?<!\\w\\.\\w.)(?<![A-Z][a-z]\\.)(?<=\\.|\\?)\\s*(\\w+)'\n",
        "\n",
        "# Find all matches in the paragraph\n",
        "matches = re.findall(pattern, paragraph)\n",
        "\n",
        "# Print the first words of each sentence\n",
        "for idx, match in enumerate(matches):\n",
        "    print(f\"First word of sentence {idx + 1}: {match}\")\n"
      ],
      "metadata": {
        "colab": {
          "base_uri": "https://localhost:8080/"
        },
        "id": "9974z79Ku9Hm",
        "outputId": "97784655-753c-4e50-bee3-291049bd664c"
      },
      "execution_count": null,
      "outputs": [
        {
          "output_type": "stream",
          "name": "stdout",
          "text": [
            "First word of sentence 1: The\n",
            "First word of sentence 2: That\n",
            "First word of sentence 3: 08\n",
            "First word of sentence 4: 9\n",
            "First word of sentence 5: Today\n"
          ]
        }
      ]
    },
    {
      "cell_type": "markdown",
      "source": [
        "\n",
        "PyPDF2 is a Python library used for working with PDF files, offering functionalities such as extracting text, merging and splitting PDFs, rotating pages, adding watermarks, and handling encryption."
      ],
      "metadata": {
        "id": "NQFHVd1mpnC2"
      }
    },
    {
      "cell_type": "code",
      "source": [
        "pip install PyPDF2\n"
      ],
      "metadata": {
        "colab": {
          "base_uri": "https://localhost:8080/"
        },
        "id": "IWv589EdyHD0",
        "outputId": "2b26b001-6654-49e0-8338-cccdd0d35024"
      },
      "execution_count": null,
      "outputs": [
        {
          "output_type": "stream",
          "name": "stdout",
          "text": [
            "Collecting PyPDF2\n",
            "  Downloading pypdf2-3.0.1-py3-none-any.whl (232 kB)\n",
            "\u001b[?25l     \u001b[90m━━━━━━━━━━━━━━━━━━━━━━━━━━━━━━━━━━━━━━━━\u001b[0m \u001b[32m0.0/232.6 kB\u001b[0m \u001b[31m?\u001b[0m eta \u001b[36m-:--:--\u001b[0m\r\u001b[2K     \u001b[91m━━━━━━━━━━━━━━━━━━━━━\u001b[0m\u001b[90m╺\u001b[0m\u001b[90m━━━━━━━━━━━━━━━━━━\u001b[0m \u001b[32m122.9/232.6 kB\u001b[0m \u001b[31m3.5 MB/s\u001b[0m eta \u001b[36m0:00:01\u001b[0m\r\u001b[2K     \u001b[90m━━━━━━━━━━━━━━━━━━━━━━━━━━━━━━━━━━━━━━━━\u001b[0m \u001b[32m232.6/232.6 kB\u001b[0m \u001b[31m4.4 MB/s\u001b[0m eta \u001b[36m0:00:00\u001b[0m\n",
            "\u001b[?25h\u001b[31mERROR: Operation cancelled by user\u001b[0m\u001b[31m\n",
            "\u001b[0mTraceback (most recent call last):\n",
            "  File \"/usr/local/lib/python3.10/dist-packages/pip/_vendor/pkg_resources/__init__.py\", line 3108, in _dep_map\n",
            "    return self.__dep_map\n",
            "  File \"/usr/local/lib/python3.10/dist-packages/pip/_vendor/pkg_resources/__init__.py\", line 2901, in __getattr__\n",
            "    raise AttributeError(attr)\n",
            "AttributeError: _DistInfoDistribution__dep_map\n",
            "\n",
            "During handling of the above exception, another exception occurred:\n",
            "\n",
            "Traceback (most recent call last):\n",
            "  File \"/usr/local/lib/python3.10/dist-packages/pip/_internal/cli/base_command.py\", line 169, in exc_logging_wrapper\n",
            "    status = run_func(*args)\n",
            "  File \"/usr/local/lib/python3.10/dist-packages/pip/_internal/cli/req_command.py\", line 242, in wrapper\n",
            "    return func(self, options, args)\n",
            "  File \"/usr/local/lib/python3.10/dist-packages/pip/_internal/commands/install.py\", line 441, in run\n",
            "    conflicts = self._determine_conflicts(to_install)\n",
            "  File \"/usr/local/lib/python3.10/dist-packages/pip/_internal/commands/install.py\", line 572, in _determine_conflicts\n",
            "    return check_install_conflicts(to_install)\n",
            "  File \"/usr/local/lib/python3.10/dist-packages/pip/_internal/operations/check.py\", line 101, in check_install_conflicts\n",
            "    package_set, _ = create_package_set_from_installed()\n",
            "  File \"/usr/local/lib/python3.10/dist-packages/pip/_internal/operations/check.py\", line 42, in create_package_set_from_installed\n",
            "    dependencies = list(dist.iter_dependencies())\n",
            "  File \"/usr/local/lib/python3.10/dist-packages/pip/_internal/metadata/pkg_resources.py\", line 216, in iter_dependencies\n",
            "    return self._dist.requires(extras)\n",
            "  File \"/usr/local/lib/python3.10/dist-packages/pip/_vendor/pkg_resources/__init__.py\", line 2821, in requires\n",
            "    dm = self._dep_map\n",
            "  File \"/usr/local/lib/python3.10/dist-packages/pip/_vendor/pkg_resources/__init__.py\", line 3110, in _dep_map\n",
            "    self.__dep_map = self._compute_dependencies()\n",
            "  File \"/usr/local/lib/python3.10/dist-packages/pip/_vendor/pkg_resources/__init__.py\", line 3132, in _compute_dependencies\n",
            "    dm[s_extra] = [r for r in reqs_for_extra(extra) if r not in common]\n",
            "  File \"/usr/local/lib/python3.10/dist-packages/pip/_vendor/pkg_resources/__init__.py\", line 3132, in <listcomp>\n",
            "    dm[s_extra] = [r for r in reqs_for_extra(extra) if r not in common]\n",
            "  File \"/usr/local/lib/python3.10/dist-packages/pip/_vendor/pkg_resources/__init__.py\", line 3124, in reqs_for_extra\n",
            "    if not req.marker or req.marker.evaluate({'extra': extra}):\n",
            "  File \"/usr/local/lib/python3.10/dist-packages/pip/_vendor/packaging/markers.py\", line 304, in evaluate\n",
            "    return _evaluate_markers(self._markers, current_environment)\n",
            "  File \"/usr/local/lib/python3.10/dist-packages/pip/_vendor/packaging/markers.py\", line 228, in _evaluate_markers\n",
            "    if isinstance(marker, list):\n",
            "KeyboardInterrupt\n",
            "\n",
            "During handling of the above exception, another exception occurred:\n",
            "\n",
            "Traceback (most recent call last):\n",
            "  File \"/usr/local/bin/pip3\", line 8, in <module>\n",
            "    sys.exit(main())\n",
            "  File \"/usr/local/lib/python3.10/dist-packages/pip/_internal/cli/main.py\", line 79, in main\n",
            "    return command.main(cmd_args)\n",
            "  File \"/usr/local/lib/python3.10/dist-packages/pip/_internal/cli/base_command.py\", line 101, in main\n",
            "    return self._main(args)\n",
            "  File \"/usr/local/lib/python3.10/dist-packages/pip/_internal/cli/base_command.py\", line 223, in _main\n",
            "    return run(options, args)\n",
            "  File \"/usr/local/lib/python3.10/dist-packages/pip/_internal/cli/base_command.py\", line 207, in exc_logging_wrapper\n",
            "    logger.debug(\"Exception information:\", exc_info=True)\n",
            "  File \"/usr/lib/python3.10/logging/__init__.py\", line 1465, in debug\n",
            "    self._log(DEBUG, msg, args, **kwargs)\n",
            "  File \"/usr/lib/python3.10/logging/__init__.py\", line 1624, in _log\n",
            "    self.handle(record)\n",
            "  File \"/usr/lib/python3.10/logging/__init__.py\", line 1634, in handle\n",
            "    self.callHandlers(record)\n",
            "  File \"/usr/lib/python3.10/logging/__init__.py\", line 1696, in callHandlers\n",
            "    hdlr.handle(record)\n",
            "  File \"/usr/lib/python3.10/logging/__init__.py\", line 968, in handle\n",
            "    self.emit(record)\n",
            "  File \"/usr/lib/python3.10/logging/handlers.py\", line 75, in emit\n",
            "    logging.FileHandler.emit(self, record)\n",
            "  File \"/usr/lib/python3.10/logging/__init__.py\", line 1218, in emit\n",
            "    StreamHandler.emit(self, record)\n",
            "  File \"/usr/lib/python3.10/logging/__init__.py\", line 1100, in emit\n",
            "    msg = self.format(record)\n",
            "  File \"/usr/lib/python3.10/logging/__init__.py\", line 943, in format\n",
            "    return fmt.format(record)\n",
            "  File \"/usr/local/lib/python3.10/dist-packages/pip/_internal/utils/logging.py\", line 112, in format\n",
            "    formatted = super().format(record)\n",
            "  File \"/usr/lib/python3.10/logging/__init__.py\", line 686, in format\n",
            "    record.exc_text = self.formatException(record.exc_info)\n",
            "  File \"/usr/lib/python3.10/logging/__init__.py\", line 636, in formatException\n",
            "    traceback.print_exception(ei[0], ei[1], tb, None, sio)\n",
            "  File \"/usr/lib/python3.10/traceback.py\", line 119, in print_exception\n",
            "    te = TracebackException(type(value), value, tb, limit=limit, compact=True)\n",
            "  File \"/usr/lib/python3.10/traceback.py\", line 502, in __init__\n",
            "    self.stack = StackSummary.extract(\n",
            "  File \"/usr/lib/python3.10/traceback.py\", line 383, in extract\n",
            "    f.line\n",
            "  File \"/usr/lib/python3.10/traceback.py\", line 306, in line\n",
            "    self._line = linecache.getline(self.filename, self.lineno)\n",
            "  File \"/usr/lib/python3.10/linecache.py\", line 30, in getline\n",
            "    lines = getlines(filename, module_globals)\n",
            "  File \"/usr/lib/python3.10/linecache.py\", line 46, in getlines\n",
            "    return updatecache(filename, module_globals)\n",
            "  File \"/usr/lib/python3.10/linecache.py\", line 136, in updatecache\n",
            "    with tokenize.open(fullname) as fp:\n",
            "  File \"/usr/lib/python3.10/tokenize.py\", line 396, in open\n",
            "    encoding, lines = detect_encoding(buffer.readline)\n",
            "  File \"/usr/lib/python3.10/tokenize.py\", line 365, in detect_encoding\n",
            "    first = read_or_stop()\n",
            "  File \"/usr/lib/python3.10/tokenize.py\", line 323, in read_or_stop\n",
            "    return readline()\n",
            "KeyboardInterrupt\n",
            "^C\n"
          ]
        }
      ]
    },
    {
      "cell_type": "code",
      "source": [
        "import re\n",
        "import string\n",
        "from collections import Counter\n",
        "import PyPDF2\n",
        "import pandas as pd\n",
        "\n",
        "# Function to read text from a PDF file\n",
        "def read_pdf(file_path):\n",
        "    pdf_reader = PyPDF2.PdfReader(file_path)\n",
        "    text = \"\"\n",
        "    for page_num in range(len(pdf_reader.pages)):\n",
        "        text += pdf_reader.pages[page_num].extract_text()\n",
        "    return text\n",
        "\n",
        "# Read the text from the PDF\n",
        "pdf_file_path = '/content/level_1_-_The_Adventures_of_Tom_Sawyer_-_Penguin_Readers-min.pdf'\n",
        "text = read_pdf(pdf_file_path)\n",
        "\n",
        "# Normalize the text\n",
        "normalized_text = text.lower().translate(str.maketrans('', '', string.punctuation))\n",
        "\n",
        "# Tokenize the normalized text into words\n",
        "words = re.findall(r'\\b\\w+\\b', normalized_text)\n",
        "\n",
        "# EDA\n",
        "total_words = len(words)\n",
        "unique_words = len(set(words))\n",
        "word_freq = Counter(words)\n",
        "most_frequent_word = word_freq.most_common(1)[0]\n",
        "least_frequent_words = [word for word, freq in word_freq.items() if freq == 1]\n",
        "longest_word = max(words, key=len)\n",
        "\n",
        "# Display results\n",
        "print(f\"Total words: {total_words}\\n\")\n",
        "print(f\"Unique words: {unique_words}\\n\")\n",
        "print(f\"Most frequent word: {most_frequent_word}\\n\")\n",
        "print(f\"Least frequent word(s): {least_frequent_words}\\n\")\n",
        "print(f\"Longest word: {longest_word}\")\n",
        "\n",
        "# Display word frequencies in tabular form using pandas\n",
        "df = pd.DataFrame(word_freq.items(), columns=['Word', 'Frequency'])\n",
        "df = df.sort_values(by='Frequency', ascending=False).reset_index(drop=True)\n",
        "print(\"\\nWord Frequencies in Tabular Form:\\n\")\n",
        "print(df)\n"
      ],
      "metadata": {
        "colab": {
          "base_uri": "https://localhost:8080/"
        },
        "id": "x7gqhQRFxvs6",
        "outputId": "eaaa8de3-d643-4a8f-a803-03444e4a1af5"
      },
      "execution_count": null,
      "outputs": [
        {
          "output_type": "stream",
          "name": "stdout",
          "text": [
            "Total words: 5295\n",
            "\n",
            "Unique words: 617\n",
            "\n",
            "Most frequent word: ('the', 280)\n",
            "\n",
            "Least frequent word(s): ['level', 'retold', 'jacqueline', 'kehl', 'edinburgh', 'gate', 'harlow', 'essex', 'cm20', '2je', 'england', 'associated', 'throughout', 'isbn', '0', '582', '41923', 'puffin', '1950', 'edition', 'copyright', 'typeset', 'digital', 'type', 'set', '1214ptbembo', 'printed', 'spain', 'mateu', 'cr', 'omo', 'pinto', 'madrid', 'rights', 'reserved', 'part', 'publication', 'may', 'reproduced', 'stored', 'retrieval', 'system', 'transmitted', 'form', 'means', 'electronic', 'mechanical', 'photocopying', 'ecording', 'otherwise', 'without', 'prior', 'written', 'permission', 'publishers', 'ltd', 'both', 'being', 'subsidiaries', 'plc', 'complete', 'list', 'titles', 'marketing', '18351910', 'american', 'writer', 'clemens', 'missouri', 'watching', 'years', 'nevada', 'newspaper', 'stories', 'york', '1800s', 'huckleberry', '1884', 'iii', 'having', 'friday', 'painting', 'times', 'white', 'yellow', 'hair', 'blue', 'eyes', 'never', 'meet', 'girls', 'sat', 'stop', 'nine', 'medici', 'ne', 'cat', 'open', 'long', 'those', 'ing', 'ta', 'lked', 'alfred', 'picturebook', 'table', 'pictures', 'closed', 'child', 'five', 'summer', 'remembered', 'friendly', 'june', '17th', 'building', 'knows', 'oh', '14', 'start', 'houses', '15', 'august', 'susy', 'cold', 'evening', '17', 'hundred', 'remember', 'lights', 'visiting', '18', 'aren', 'yesterday', '20', 'made', '21', 'thatcher', 'th', 'ank', 'living', 'week', '23', 'heavy', '12', 'called', 'waiting', 'hello', 'wash', 'faces', '25', '12000', 'washed', 'ran', 'woman', 'washing', 'thinking', 'try', 'month', 'meeting', '16', 'story', 'tv', 'cats', 'makes', 'sac', 'when', 'left', 'police', 'picture', 'sentences', 'tear', 'animal', 'dress', 'likes', 'doesn', '27', '713', 'goi', 'ng', 'wrong', 'ticket', 'knif', 'treasures', 'nights', 'bi', 'finds', 'hu', 'ck', 'su', 'rprise', 'writing', 'ba', 'ith', 'treasu', 'answers', 'resource', 'packs', 'factsheets', 'separate', 'sheet', 'ma', 'rketing', 'internet', 'information', 'selection', 'favourite', 'writers', 'film', 'stars', 'download', 'resources', 'much', 'more', 'p', 'u', 'simplified', 'texts', 'designed', 'educational', 'publi', 'sher', 'provide', 'stepbystep', 'approach', 'joys', 'reading', 'pleasure', 'each', 'extensive', 'activity', 'material', 'seven', 'levels', 'fr', 'om', 'easystarts', '200', 'advanced', '3000', 'www', 'penguinreadersco', 'cover', 'photograph', 'frank', 'ho', 'pkinson']\n",
            "\n",
            "Longest word: wwwpenguinreaderscom\n",
            "\n",
            "Word Frequencies in Tabular Form:\n",
            "\n",
            "        Word  Frequency\n",
            "0        the        280\n",
            "1         to        178\n",
            "2        and        153\n",
            "3        tom        144\n",
            "4         he        109\n",
            "..       ...        ...\n",
            "612      cat          1\n",
            "613     open          1\n",
            "614     long          1\n",
            "615    those          1\n",
            "616  pkinson          1\n",
            "\n",
            "[617 rows x 2 columns]\n"
          ]
        }
      ]
    },
    {
      "cell_type": "markdown",
      "source": [
        "* We have found that in this particular book Total words are 5295 , most number of Unique words are 617 and also Most frequent word: ('the', 280).\n",
        "* We also observe that the Longest word in this book is wwwpenguinreaderscom\n"
      ],
      "metadata": {
        "id": "gPYIKpufpq6-"
      }
    },
    {
      "cell_type": "code",
      "source": [
        "# Calculating word frequencies\n",
        "word_freq = Counter(words)\n",
        "\n",
        "# Displaying the most common words\n",
        "word_freq.most_common2(10)\n"
      ],
      "metadata": {
        "colab": {
          "base_uri": "https://localhost:8080/"
        },
        "id": "WYkNnQf50MDV",
        "outputId": "500b1ba3-9709-41f2-b114-bec342b07302"
      },
      "execution_count": null,
      "outputs": [
        {
          "output_type": "execute_result",
          "data": {
            "text/plain": [
              "[('the', 280),\n",
              " ('to', 178),\n",
              " ('and', 153),\n",
              " ('tom', 144),\n",
              " ('he', 109),\n",
              " ('said', 93),\n",
              " ('in', 92),\n",
              " ('a', 90),\n",
              " ('s', 84),\n",
              " ('you', 83)]"
            ]
          },
          "metadata": {},
          "execution_count": 25
        }
      ]
    },
    {
      "cell_type": "code",
      "source": [
        "import matplotlib.pyplot as plt\n",
        "\n",
        "# Extracting the 10 most common words\n",
        "common_words = word_freq.most_common(10)\n",
        "words, counts = zip(*common_words)\n",
        "\n",
        "# Plotting the bar chart\n",
        "plt.figure(figsize=(10, 6))\n",
        "plt.bar(words, counts)\n",
        "plt.xlabel('Words')\n",
        "plt.ylabel('Frequency')\n",
        "plt.title('Top 10 Most Common Words')\n",
        "plt.show()\n"
      ],
      "metadata": {
        "colab": {
          "base_uri": "https://localhost:8080/",
          "height": 564
        },
        "id": "6nRdGDFn0S1s",
        "outputId": "d11f13f8-d1c2-4b77-8026-4ea05d910e43"
      },
      "execution_count": null,
      "outputs": [
        {
          "output_type": "display_data",
          "data": {
            "text/plain": [
              "<Figure size 1000x600 with 1 Axes>"
            ],
            "image/png": "[encoded data removed]"
          },
          "metadata": {}
        }
      ]
    },
    {
      "cell_type": "markdown",
      "source": [
        "* From the above graph, we have observed that the most frequent used word is the and the least used word is you.\n",
        "*where as, to, and tom and he are also used frequently.\n",
        "* also, in, a and you falls under least used words in the book"
      ],
      "metadata": {
        "id": "YpVJzqDeqTZP"
      }
    }
  ]
}
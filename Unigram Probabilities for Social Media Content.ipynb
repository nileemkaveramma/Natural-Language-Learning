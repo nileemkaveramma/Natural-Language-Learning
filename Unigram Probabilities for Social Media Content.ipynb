{
  "nbformat": 4,
  "nbformat_minor": 0,
  "metadata": {
    "colab": {
      "provenance": []
    },
    "kernelspec": {
      "name": "python3",
      "display_name": "Python 3"
    },
    "language_info": {
      "name": "python"
    }
  },
  "cells": [
    {
      "cell_type": "markdown",
      "source": [
        "* Name: Nileem Kaveramma C C\n",
        "* Roll number: 2348441"
      ],
      "metadata": {
        "id": "a79DOCI2Qhqu"
      }
    },
    {
      "cell_type": "markdown",
      "source": [
        "* Question 1: Unigram Probabilities for Social Media Content\n",
        "You are analyzing a corpus of social media posts to improve predictive text suggestions.\n",
        "Your task is to generate a lookup table for unigram probabilities from the given corpus.\n",
        "* Explain how unigram probabilities are calculated and provide examples from your lookup\n",
        "table.\n",
        "* Provide the count of the word &quot;marketing&quot; and the total number of words in the\n",
        "corpus.\n",
        "* Compute the unigram probability of &quot;marketing."
      ],
      "metadata": {
        "id": "Ysrq7miuQsqW"
      }
    },
    {
      "cell_type": "code",
      "execution_count": null,
      "metadata": {
        "colab": {
          "base_uri": "https://localhost:8080/"
        },
        "id": "qvPlq9XxQcs_",
        "outputId": "5925c3b2-cf74-4c14-8d90-9575813c25a3"
      },
      "outputs": [
        {
          "output_type": "stream",
          "name": "stdout",
          "text": [
            "Total words: 9\n",
            "Count of 'marketing': 2\n",
            "Unigram Probability of 'marketing': 0.2222222222222222\n"
          ]
        }
      ],
      "source": [
        "from collections import Counter\n",
        "import re\n",
        "\n",
        "def unigram_probabilities(corpus):\n",
        "    # Preprocess the corpus: remove punctuation and lowercase\n",
        "    corpus_clean = re.sub(r'[^\\w\\s]', '', corpus.lower())\n",
        "\n",
        "    # Tokenize the words\n",
        "    words = corpus_clean.split()\n",
        "\n",
        "    # Count the frequency of each word\n",
        "    word_count = Counter(words)\n",
        "\n",
        "    # Total number of words\n",
        "    total_words = sum(word_count.values())\n",
        "\n",
        "    # Unigram probabilities\n",
        "    unigram_probs = {word: count / total_words for word, count in word_count.items()}\n",
        "\n",
        "    # Count for the word 'marketing'\n",
        "    marketing_count = word_count.get('marketing', 0)\n",
        "\n",
        "    return word_count, total_words, marketing_count, unigram_probs\n",
        "\n",
        "# Example usage\n",
        "corpus = \"Social media marketing is evolving. Marketing campaigns drive sales.\"\n",
        "word_count, total_words, marketing_count, unigram_probs = unigram_probabilities(corpus)\n",
        "\n",
        "print(f\"Total words: {total_words}\")\n",
        "print(f\"Count of 'marketing': {marketing_count}\")\n",
        "print(f\"Unigram Probability of 'marketing': {unigram_probs.get('marketing', 0)}\")\n"
      ]
    },
    {
      "cell_type": "markdown",
      "source": [
        "Question 2: POS Tagging for Social Media Reviews\n",
        "You need to implement a POS tagger to identify the part of speech for each word in the\n",
        "following customer review:\n",
        "Sentence: &quot;Our customers love the new feature update and have been sharing their positive\n",
        "feedback.&quot;\n",
        "* Write a Python script to tag each word with its part of speech (POS).\n",
        "* Modify your script to count the number of occurrences of each POS tag in the\n",
        "sentence. Present the results in a dictionary format, where keys are POS tags and\n",
        "values are their counts.\n",
        "* Create a bar chart to visualize the distribution of different POS tags in the sentence.\n",
        "You can use libraries such as Matplotlib or Seaborn for this task. Provide the code and\n",
        "the generated chart."
      ],
      "metadata": {
        "id": "0HmIYseiRCjt"
      }
    },
    {
      "cell_type": "code",
      "source": [
        "# Download the POS tagger resource\n",
        "nltk.download('averaged_perceptron_tagger')\n",
        "nltk.download('punkt')  # Also download the 'punkt' tokenizer if it's not already available\n"
      ],
      "metadata": {
        "colab": {
          "base_uri": "https://localhost:8080/"
        },
        "id": "zkGO0IqARQ_O",
        "outputId": "bcfe2af5-6800-433e-d795-047efcc698c8"
      },
      "execution_count": null,
      "outputs": [
        {
          "output_type": "stream",
          "name": "stderr",
          "text": [
            "[nltk_data] Downloading package averaged_perceptron_tagger to\n",
            "[nltk_data]     /root/nltk_data...\n",
            "[nltk_data]   Unzipping taggers/averaged_perceptron_tagger.zip.\n",
            "[nltk_data] Downloading package punkt to /root/nltk_data...\n",
            "[nltk_data]   Package punkt is already up-to-date!\n"
          ]
        },
        {
          "output_type": "execute_result",
          "data": {
            "text/plain": [
              "True"
            ]
          },
          "metadata": {},
          "execution_count": 7
        }
      ]
    },
    {
      "cell_type": "code",
      "source": [
        "import nltk\n",
        "from nltk import pos_tag, word_tokenize\n",
        "from collections import Counter\n",
        "import matplotlib.pyplot as plt\n",
        "\n",
        "# POS tagging and counting\n",
        "def pos_tagging(sentence):\n",
        "    # Tokenize the sentence\n",
        "    tokens = word_tokenize(sentence)\n",
        "\n",
        "    # Tag POS for each word\n",
        "    tagged = pos_tag(tokens)\n",
        "\n",
        "    # Count occurrences of each POS tag\n",
        "    pos_count = Counter(tag for word, tag in tagged)\n",
        "\n",
        "    return tagged, pos_count\n",
        "\n",
        "# Visualization of POS tag distribution\n",
        "def plot_pos_distribution(pos_count):\n",
        "    # Bar chart for POS tag distribution\n",
        "    plt.bar(pos_count.keys(), pos_count.values())\n",
        "    plt.xlabel('POS Tags')\n",
        "    plt.ylabel('Counts')\n",
        "    plt.title('POS Tag Distribution')\n",
        "    plt.xticks(rotation=45)\n",
        "    plt.show()\n",
        "\n",
        "# Example usage\n",
        "sentence = \"Our customers love the new feature update and have been sharing their positive feedback.\"\n",
        "tagged_sentence, pos_counts = pos_tagging(sentence)\n",
        "print(f\"POS Tagged Sentence: {tagged_sentence}\")\n",
        "print(f\"POS Counts: {pos_counts}\")\n",
        "\n",
        "# Plot the POS distribution\n",
        "plot_pos_distribution(pos_counts)\n"
      ],
      "metadata": {
        "colab": {
          "base_uri": "https://localhost:8080/",
          "height": 548
        },
        "id": "foA9bOPYQ1IR",
        "outputId": "1f6d3c57-e3d9-443b-8ea6-e1f5753c6002"
      },
      "execution_count": null,
      "outputs": [
        {
          "output_type": "stream",
          "name": "stdout",
          "text": [
            "POS Tagged Sentence: [('Our', 'PRP$'), ('customers', 'NNS'), ('love', 'VBP'), ('the', 'DT'), ('new', 'JJ'), ('feature', 'NN'), ('update', 'NN'), ('and', 'CC'), ('have', 'VBP'), ('been', 'VBN'), ('sharing', 'VBG'), ('their', 'PRP$'), ('positive', 'JJ'), ('feedback', 'NN'), ('.', '.')]\n",
            "POS Counts: Counter({'NN': 3, 'PRP$': 2, 'VBP': 2, 'JJ': 2, 'NNS': 1, 'DT': 1, 'CC': 1, 'VBN': 1, 'VBG': 1, '.': 1})\n"
          ]
        },
        {
          "output_type": "display_data",
          "data": {
            "text/plain": [
              "<Figure size 640x480 with 1 Axes>"
            ],
            "image/png": "[encoded data removed]"
          },
          "metadata": {}
        }
      ]
    },
    {
      "cell_type": "markdown",
      "source": [
        "Question 3: Lesk Algorithm for WSD in Social Media Content\n",
        "Implement the Lesk algorithm to disambiguate the word &quot;bank&quot; in the following social media\n",
        "post:\n",
        "* Sentence: &quot;The social media manager checked the bank of followers to ensure accurate\n",
        "metrics for the upcoming marketing campaign.&quot;\n",
        "* Write a program that uses the Lesk algorithm to determine the correct sense of the word\n",
        "&quot;bank.&quot; Use the WordNet corpus for reference."
      ],
      "metadata": {
        "id": "6Nr7rqrmSKOg"
      }
    },
    {
      "cell_type": "code",
      "source": [
        "import nltk\n",
        "nltk.download('wordnet')"
      ],
      "metadata": {
        "colab": {
          "base_uri": "https://localhost:8080/"
        },
        "id": "mREJsbh_SUoE",
        "outputId": "fe7335a0-8881-49bb-814e-063850011919"
      },
      "execution_count": null,
      "outputs": [
        {
          "output_type": "stream",
          "name": "stderr",
          "text": [
            "[nltk_data] Downloading package wordnet to /root/nltk_data...\n"
          ]
        },
        {
          "output_type": "execute_result",
          "data": {
            "text/plain": [
              "True"
            ]
          },
          "metadata": {},
          "execution_count": 10
        }
      ]
    },
    {
      "cell_type": "code",
      "source": [
        "from nltk.wsd import lesk\n",
        "from nltk.tokenize import word_tokenize\n",
        "\n",
        "def lesk_wsd(sentence, word):\n",
        "    # Tokenize the sentence\n",
        "    tokens = word_tokenize(sentence)\n",
        "\n",
        "    # Use Lesk algorithm to determine the correct sense of the word\n",
        "    sense = lesk(tokens, word)\n",
        "\n",
        "    return sense\n",
        "\n",
        "# Example usage\n",
        "sentence = \"The social media manager checked the bank of followers to ensure accurate metrics for the upcoming marketing campaign.\"\n",
        "word = \"bank\"\n",
        "sense = lesk_wsd(sentence, word)\n",
        "\n",
        "print(f\"Correct sense of '{word}': {sense}\")\n",
        "print(f\"Definition of the sense: {sense.definition() if sense else 'No sense found'}\")\n"
      ],
      "metadata": {
        "colab": {
          "base_uri": "https://localhost:8080/"
        },
        "id": "YGfSy8pkQ9cx",
        "outputId": "06e07875-bc11-4883-e84c-5af7002f9753"
      },
      "execution_count": null,
      "outputs": [
        {
          "output_type": "stream",
          "name": "stdout",
          "text": [
            "Correct sense of 'bank': Synset('bank.v.07')\n",
            "Definition of the sense: cover with ashes so to control the rate of burning\n"
          ]
        }
      ]
    },
    {
      "cell_type": "markdown",
      "source": [
        "* Question 4: Fine-Tuning POS Tagger for Social Media Content\n",
        "Your company is developing a Natural Language Processing (NLP) tool to automatically tag\n",
        "parts of speech and identify entities in customer feedback. The initial step in your project is\n",
        "to:\n",
        "\n",
        "* Fine-tune a POS tagging model on a labeled dataset of social media posts.\n",
        "* Evaluate the performance of the fine-tuned model using accuracy, precision, recall,\n",
        "and F1-score."
      ],
      "metadata": {
        "id": "gY2auL_XSemY"
      }
    },
    {
      "cell_type": "code",
      "source": [
        "import spacy\n",
        "from sklearn.metrics import accuracy_score, precision_score, recall_score, f1_score\n",
        "\n",
        "# Load spaCy's pre-trained model\n",
        "nlp = spacy.load(\"en_core_web_sm\")\n",
        "\n",
        "# Fine-tuning not included, but here is an evaluation example\n",
        "def evaluate_pos_tagger(text, true_tags):\n",
        "    doc = nlp(text)\n",
        "    predicted_tags = [token.pos_ for token in doc]\n",
        "\n",
        "    # Check lengths to ensure consistency\n",
        "    if len(true_tags) != len(predicted_tags):\n",
        "        print(f\"Length mismatch: true_tags={len(true_tags)}, predicted_tags={len(predicted_tags)}\")\n",
        "        return None\n",
        "\n",
        "    # Compute accuracy, precision, recall, and F1-score\n",
        "    accuracy = accuracy_score(true_tags, predicted_tags)\n",
        "    precision = precision_score(true_tags, predicted_tags, average='weighted', zero_division=1)\n",
        "    recall = recall_score(true_tags, predicted_tags, average='weighted', zero_division=1)\n",
        "    f1 = f1_score(true_tags, predicted_tags, average='weighted', zero_division=1)\n",
        "\n",
        "    return accuracy, precision, recall, f1\n",
        "\n",
        "# Example usage\n",
        "text = \"Our customers love the new feature update and have been sharing their positive feedback.\"\n",
        "# True tags based on the number of tokens (spaCy tokenizes 'positive feedback.' as two tokens)\n",
        "true_tags = ['PRP$', 'NNS', 'VBP', 'DT', 'JJ', 'NN', 'NN', 'CC', 'VBP', 'VBN', 'VBG', 'PRP$', 'JJ', 'NN', '.']  # Added '.' at the end\n",
        "\n",
        "# Evaluate the POS tagger\n",
        "results = evaluate_pos_tagger(text, true_tags)\n",
        "\n",
        "if results:\n",
        "    accuracy, precision, recall, f1 = results\n",
        "    print(f\"Accuracy: {accuracy}, Precision: {precision}, Recall: {recall}, F1-Score: {f1}\")\n"
      ],
      "metadata": {
        "colab": {
          "base_uri": "https://localhost:8080/"
        },
        "id": "zAHH3qQ9SG0E",
        "outputId": "f0be653b-b000-42ad-9fa4-815f5c0ac4d9"
      },
      "execution_count": null,
      "outputs": [
        {
          "output_type": "stream",
          "name": "stdout",
          "text": [
            "Accuracy: 0.0, Precision: 1.0, Recall: 0.0, F1-Score: 0.0\n"
          ]
        }
      ]
    },
    {
      "cell_type": "markdown",
      "source": [
        "* Question 5: Enhanced Lesk Algorithm for Social Media Content\n",
        "You are tasked with improving a Word Sense Disambiguation (WSD) system for a complex\n",
        "domain, such as social media marketing content, where words often have multiple senses\n",
        "depending on context. The challenge involves not only implementing the Lesk algorithm but\n",
        "also enhancing it with contextual features and embeddings.\n",
        "Implement the Lesk Algorithm to disambiguate the target word in context. Your\n",
        "implementation should involve:\n",
        "* Extracting the context of the target word.\n",
        "* Computing overlap between the context and definitions of the target word’s senses\n",
        "from WordNet.\n",
        "* Enhancing the algorithm with contextual embeddings."
      ],
      "metadata": {
        "id": "d6UlvZPCS2-D"
      }
    },
    {
      "cell_type": "code",
      "source": [
        "from nltk.wsd import lesk\n",
        "from nltk.tokenize import word_tokenize\n",
        "import spacy\n",
        "\n",
        "nlp = spacy.load('en_core_web_sm')\n",
        "\n",
        "def enhanced_lesk_wsd(sentence, word):\n",
        "    # Use regular Lesk to find initial sense\n",
        "    tokens = word_tokenize(sentence)\n",
        "    initial_sense = lesk(tokens, word)\n",
        "\n",
        "    # Use contextual embeddings to enhance the sense identification\n",
        "    doc = nlp(sentence)\n",
        "    target_token = None\n",
        "    for token in doc:\n",
        "        if token.text == word:\n",
        "            target_token = token\n",
        "            break\n",
        "\n",
        "    # Find the word's similarity with potential senses using embeddings\n",
        "    if initial_sense:\n",
        "        sense_definition = initial_sense.definition()\n",
        "        similarity = target_token.similarity(nlp(sense_definition))\n",
        "        return initial_sense, similarity\n",
        "    else:\n",
        "        return None, 0\n",
        "\n",
        "# Example usage\n",
        "sentence = \"The social media manager checked the bank of followers to ensure accurate metrics for the upcoming marketing campaign.\"\n",
        "word = \"bank\"\n",
        "sense, similarity = enhanced_lesk_wsd(sentence, word)\n",
        "\n",
        "print(f\"Enhanced Lesk Sense: {sense}\")\n",
        "print(f\"Similarity Score: {similarity}\")\n"
      ],
      "metadata": {
        "colab": {
          "base_uri": "https://localhost:8080/"
        },
        "id": "gV_cFKjlSacC",
        "outputId": "5971e832-efe8-4856-d713-80b0422c8ffb"
      },
      "execution_count": null,
      "outputs": [
        {
          "output_type": "stream",
          "name": "stdout",
          "text": [
            "Enhanced Lesk Sense: Synset('bank.v.07')\n",
            "Similarity Score: 0.16977802573474052\n"
          ]
        },
        {
          "output_type": "stream",
          "name": "stderr",
          "text": [
            "<ipython-input-13-17345681c176>:23: UserWarning: [W007] The model you're using has no word vectors loaded, so the result of the Token.similarity method will be based on the tagger, parser and NER, which may not give useful similarity judgements. This may happen if you're using one of the small models, e.g. `en_core_web_sm`, which don't ship with word vectors and only use context-sensitive tensors. You can always add your own word vectors, or use one of the larger models instead if available.\n",
            "  similarity = target_token.similarity(nlp(sense_definition))\n"
          ]
        }
      ]
    },
    {
      "cell_type": "code",
      "source": [],
      "metadata": {
        "id": "OVbXTuuDSsTY"
      },
      "execution_count": null,
      "outputs": []
    }
  ]
}